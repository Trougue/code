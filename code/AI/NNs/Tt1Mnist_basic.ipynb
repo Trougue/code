{
  "nbformat": 4,
  "nbformat_minor": 0,
  "metadata": {
    "colab": {
      "name": "Mnist basic.ipynb",
      "provenance": [],
      "authorship_tag": "ABX9TyN071ODHQk5hK9Q+VPoZo7M"
    },
    "kernelspec": {
      "name": "python3",
      "display_name": "Python 3"
    },
    "accelerator": "GPU"
  },
  "cells": [
    {
      "cell_type": "code",
      "metadata": {
        "id": "HYgYsELGJOyZ"
      },
      "source": [
        "import IPython\r\n",
        "import IPython.display\r\n",
        "import matplotlib as mpl\r\n",
        "import matplotlib.pyplot as plt\r\n",
        "import numpy as np\r\n",
        "import pandas as pd\r\n",
        "import seaborn as sns\r\n",
        "import tensorflow as tf\r\n",
        "from keras.utils import to_categorical\r\n",
        "from sklearn import preprocessing\r\n",
        "from collections import deque\r\n",
        "import random\r\n",
        "from numpy import newaxis\r\n",
        "import sys\r\n"
      ],
      "execution_count": 1,
      "outputs": []
    },
    {
      "cell_type": "code",
      "metadata": {
        "colab": {
          "base_uri": "https://localhost:8080/"
        },
        "id": "lcltr0HwJdgF",
        "outputId": "c07c5468-8961-44f2-81db-76a9e76bbf6d"
      },
      "source": [
        "mnist=tf.keras.datasets.mnist\r\n",
        "(x_train,y_train),(x_test,y_test)= mnist.load_data()\r\n"
      ],
      "execution_count": 2,
      "outputs": [
        {
          "output_type": "stream",
          "text": [
            "Downloading data from https://storage.googleapis.com/tensorflow/tf-keras-datasets/mnist.npz\n",
            "11493376/11490434 [==============================] - 0s 0us/step\n"
          ],
          "name": "stdout"
        }
      ]
    },
    {
      "cell_type": "code",
      "metadata": {
        "colab": {
          "base_uri": "https://localhost:8080/"
        },
        "id": "3B0PL2-HMT-y",
        "outputId": "1b9de6ed-227f-4da4-f35c-bd3513597c63"
      },
      "source": [
        "x_train=x_train/255.0\r\n",
        "x_test=x_test/255.0\r\n",
        "print(x_train.shape)"
      ],
      "execution_count": 3,
      "outputs": [
        {
          "output_type": "stream",
          "text": [
            "(60000, 28, 28)\n"
          ],
          "name": "stdout"
        }
      ]
    },
    {
      "cell_type": "code",
      "metadata": {
        "colab": {
          "base_uri": "https://localhost:8080/"
        },
        "id": "c6J7EekcMg5E",
        "outputId": "d31f8515-72fc-45d8-ca8c-807d974e5a7f"
      },
      "source": [
        "model=tf.keras.models.Sequential()\r\n",
        "model.add(tf.keras.layers.LSTM(units=128,input_shape=(28, 28),return_sequences=True))\r\n",
        "model.add(tf.keras.layers.Dropout(0.2))\r\n",
        "model.add(tf.keras.layers.LSTM(units=128,return_sequences=True))\r\n",
        "model.add(tf.keras.layers.Dropout(0.2))\r\n",
        "model.add(tf.keras.layers.LSTM(units=128))\r\n",
        "model.add(tf.keras.layers.Dropout(0.2))\r\n",
        "model.add(tf.keras.layers.Dense(units=32,activation='relu'))\r\n",
        "model.add(tf.keras.layers.Dense(units=10,activation='softmax'))\r\n",
        "opt=tf.keras.optimizers.Adam(learning_rate=1e-3,decay=1e-5)\r\n",
        "model.compile(optimizer=opt,loss='sparse_categorical_crossentropy',metrics=['accuracy'])\r\n",
        "model.fit(x_train,y_train,epochs=6,validation_data=(x_test,y_test))\r\n"
      ],
      "execution_count": 4,
      "outputs": [
        {
          "output_type": "stream",
          "text": [
            "Epoch 1/6\n",
            "1875/1875 [==============================] - 27s 9ms/step - loss: 0.6811 - accuracy: 0.7708 - val_loss: 0.0904 - val_accuracy: 0.9736\n",
            "Epoch 2/6\n",
            "1875/1875 [==============================] - 16s 9ms/step - loss: 0.1125 - accuracy: 0.9671 - val_loss: 0.0969 - val_accuracy: 0.9705\n",
            "Epoch 3/6\n",
            "1875/1875 [==============================] - 16s 9ms/step - loss: 0.0756 - accuracy: 0.9779 - val_loss: 0.0861 - val_accuracy: 0.9759\n",
            "Epoch 4/6\n",
            "1875/1875 [==============================] - 16s 9ms/step - loss: 0.0577 - accuracy: 0.9838 - val_loss: 0.0553 - val_accuracy: 0.9851\n",
            "Epoch 5/6\n",
            "1875/1875 [==============================] - 17s 9ms/step - loss: 0.0478 - accuracy: 0.9866 - val_loss: 0.0480 - val_accuracy: 0.9872\n",
            "Epoch 6/6\n",
            "1875/1875 [==============================] - 17s 9ms/step - loss: 0.0418 - accuracy: 0.9882 - val_loss: 0.0354 - val_accuracy: 0.9896\n"
          ],
          "name": "stdout"
        },
        {
          "output_type": "execute_result",
          "data": {
            "text/plain": [
              "<tensorflow.python.keras.callbacks.History at 0x7fa1d6401ef0>"
            ]
          },
          "metadata": {
            "tags": []
          },
          "execution_count": 4
        }
      ]
    }
  ]
}