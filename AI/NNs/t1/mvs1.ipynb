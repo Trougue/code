{
  "nbformat": 4,
  "nbformat_minor": 0,
  "metadata": {
    "colab": {
      "name": "model.ipynb",
      "provenance": [],
      "collapsed_sections": []
    },
    "kernelspec": {
      "name": "python3",
      "display_name": "Python 3"
    },
    "accelerator": "GPU"
  },
  "cells": [
    {
      "cell_type": "code",
      "metadata": {
        "id": "njlOYxY4M7Cu"
      },
      "source": [
        "import IPython\r\n",
        "import IPython.display\r\n",
        "import matplotlib as mpl\r\n",
        "import matplotlib.pyplot as plt\r\n",
        "import numpy as np\r\n",
        "import pandas as pd\r\n",
        "import seaborn as sns\r\n",
        "import tensorflow as tf\r\n",
        "from keras.utils import to_categorical\r\n",
        "from sklearn import model_selection\r\n",
        "from sklearn import preprocessing\r\n",
        "from collections import deque\r\n",
        "import random\r\n",
        "from numpy import newaxis\r\n",
        "import sys\r\n",
        "from datetime import date"
      ],
      "execution_count": 1,
      "outputs": []
    },
    {
      "cell_type": "code",
      "metadata": {
        "colab": {
          "base_uri": "https://localhost:8080/"
        },
        "id": "C3Y0Y5T5KX9r",
        "outputId": "3dd4b037-4fd7-4066-97f7-5c8fbe589c34"
      },
      "source": [
        "from google.colab import drive\r\n",
        "\r\n",
        "drive.mount('/content/gdrive')"
      ],
      "execution_count": 2,
      "outputs": [
        {
          "output_type": "stream",
          "text": [
            "Mounted at /content/gdrive\n"
          ],
          "name": "stdout"
        }
      ]
    },
    {
      "cell_type": "code",
      "metadata": {
        "id": "Nau3d_phMu_m"
      },
      "source": [
        "with open('/content/gdrive/MyDrive/Colab Notebooks/data/modified (1).csv','r') as z:\n",
        "    df = pd.DataFrame(pd.read_csv(z,infer_datetime_format=True,parse_dates=['TS']))\n",
        "\n"
      ],
      "execution_count": 57,
      "outputs": []
    },
    {
      "cell_type": "code",
      "metadata": {
        "id": "4JioqLLV1Kph"
      },
      "source": [
        "with open('/content/gdrive/MyDrive/Colab Notebooks/data/modified (1).csv','r') as zo:\r\n",
        "    df = pd.DataFrame(pd.read_csv(zo,infer_datetime_format=True,parse_dates=['TS']))"
      ],
      "execution_count": 408,
      "outputs": []
    },
    {
      "cell_type": "code",
      "metadata": {
        "colab": {
          "base_uri": "https://localhost:8080/"
        },
        "id": "fXdmauOMp2oN",
        "outputId": "f04cae35-b127-43f9-c6e7-fe32da9b29a6"
      },
      "source": [
        "df.head"
      ],
      "execution_count": 409,
      "outputs": [
        {
          "output_type": "execute_result",
          "data": {
            "text/plain": [
              "<bound method NDFrame.head of               TS          V1          V2  ...          W2          W3  Season\n",
              "0     1481779800  230.459834  232.246458  ...   61.896241    0.106471       1\n",
              "1     1481794200  232.629286  235.258992  ...   64.306541   38.469765       1\n",
              "2     1481797800  233.379785  234.766217  ...   12.996327   64.990385       1\n",
              "3     1481862600  230.026178  230.905907  ...    0.713788    0.502634       1\n",
              "4     1481866200  229.061954  232.196039  ...   36.306355   37.953893       1\n",
              "...          ...         ...         ...  ...         ...         ...     ...\n",
              "4663  1528120800  235.441763  236.377831  ...  105.633668   57.933859       2\n",
              "4664  1528124400  232.340915  233.185799  ...  204.173027  102.993996       2\n",
              "4665  1528128000  231.533768  231.922184  ...  164.771038  114.729862       2\n",
              "4666  1528131600  231.580498  230.829861  ...   55.652969  112.263540       2\n",
              "4667  1528135200  232.444894  232.742972  ...   72.086230  104.550903       2\n",
              "\n",
              "[4668 rows x 8 columns]>"
            ]
          },
          "metadata": {
            "tags": []
          },
          "execution_count": 409
        }
      ]
    },
    {
      "cell_type": "code",
      "metadata": {
        "id": "xbRn_lDfsrST"
      },
      "source": [
        "df.drop(224,inplace=True)\r\n",
        "df.drop(4582,inplace=True)\r\n",
        "df.drop(4622,inplace=True)"
      ],
      "execution_count": 410,
      "outputs": []
    },
    {
      "cell_type": "markdown",
      "metadata": {
        "id": "agd0jGC0OdpC"
      },
      "source": [
        "\r\n",
        "\r\n",
        "```\r\n",
        "# This is formatted as code\r\n",
        "```\r\n",
        "\r\n",
        "df.drop([\"Unnamed: 0\"],axis=1,inplace=True)"
      ]
    },
    {
      "cell_type": "code",
      "metadata": {
        "colab": {
          "base_uri": "https://localhost:8080/"
        },
        "id": "WkVMqCcWXJXB",
        "outputId": "57504b9d-105a-44fa-a571-95edf956a6d4"
      },
      "source": [
        "df.info(\r\n",
        "  \r\n",
        ")"
      ],
      "execution_count": 363,
      "outputs": [
        {
          "output_type": "stream",
          "text": [
            "<class 'pandas.core.frame.DataFrame'>\n",
            "Int64Index: 4322 entries, 0 to 4667\n",
            "Data columns (total 8 columns):\n",
            " #   Column  Non-Null Count  Dtype  \n",
            "---  ------  --------------  -----  \n",
            " 0   TS      4322 non-null   object \n",
            " 1   V1      4322 non-null   float64\n",
            " 2   V2      4322 non-null   float64\n",
            " 3   V3      4322 non-null   float64\n",
            " 4   W1      4322 non-null   float64\n",
            " 5   W2      4322 non-null   float64\n",
            " 6   W3      4322 non-null   float64\n",
            " 7   Season  4322 non-null   int64  \n",
            "dtypes: float64(6), int64(1), object(1)\n",
            "memory usage: 303.9+ KB\n"
          ],
          "name": "stdout"
        }
      ]
    },
    {
      "cell_type": "code",
      "metadata": {
        "colab": {
          "base_uri": "https://localhost:8080/",
          "height": 282
        },
        "id": "7GuD-cGw6b2U",
        "outputId": "4b02e3dc-7e3f-4633-873e-02a8daccefea"
      },
      "source": [
        ""
      ],
      "execution_count": 366,
      "outputs": [
        {
          "output_type": "execute_result",
          "data": {
            "text/html": [
              "<div>\n",
              "<style scoped>\n",
              "    .dataframe tbody tr th:only-of-type {\n",
              "        vertical-align: middle;\n",
              "    }\n",
              "\n",
              "    .dataframe tbody tr th {\n",
              "        vertical-align: top;\n",
              "    }\n",
              "\n",
              "    .dataframe thead th {\n",
              "        text-align: right;\n",
              "    }\n",
              "</style>\n",
              "<table border=\"1\" class=\"dataframe\">\n",
              "  <thead>\n",
              "    <tr style=\"text-align: right;\">\n",
              "      <th></th>\n",
              "      <th>V1</th>\n",
              "      <th>V2</th>\n",
              "      <th>V3</th>\n",
              "      <th>W1</th>\n",
              "      <th>W2</th>\n",
              "      <th>W3</th>\n",
              "      <th>Season</th>\n",
              "    </tr>\n",
              "  </thead>\n",
              "  <tbody>\n",
              "    <tr>\n",
              "      <th>count</th>\n",
              "      <td>4322.000000</td>\n",
              "      <td>4322.000000</td>\n",
              "      <td>4322.000000</td>\n",
              "      <td>4322.000000</td>\n",
              "      <td>4322.000000</td>\n",
              "      <td>4322.000000</td>\n",
              "      <td>4322.000000</td>\n",
              "    </tr>\n",
              "    <tr>\n",
              "      <th>mean</th>\n",
              "      <td>235.243726</td>\n",
              "      <td>237.398930</td>\n",
              "      <td>236.708038</td>\n",
              "      <td>182.133579</td>\n",
              "      <td>99.135602</td>\n",
              "      <td>156.335830</td>\n",
              "      <td>1.921795</td>\n",
              "    </tr>\n",
              "    <tr>\n",
              "      <th>std</th>\n",
              "      <td>4.227069</td>\n",
              "      <td>4.307357</td>\n",
              "      <td>3.992417</td>\n",
              "      <td>173.874058</td>\n",
              "      <td>102.325114</td>\n",
              "      <td>156.578762</td>\n",
              "      <td>0.357279</td>\n",
              "    </tr>\n",
              "    <tr>\n",
              "      <th>min</th>\n",
              "      <td>214.105829</td>\n",
              "      <td>215.297552</td>\n",
              "      <td>215.190582</td>\n",
              "      <td>0.112912</td>\n",
              "      <td>0.105221</td>\n",
              "      <td>0.100397</td>\n",
              "      <td>1.000000</td>\n",
              "    </tr>\n",
              "    <tr>\n",
              "      <th>25%</th>\n",
              "      <td>231.922936</td>\n",
              "      <td>234.008750</td>\n",
              "      <td>233.519695</td>\n",
              "      <td>96.537550</td>\n",
              "      <td>31.926906</td>\n",
              "      <td>51.880481</td>\n",
              "      <td>2.000000</td>\n",
              "    </tr>\n",
              "    <tr>\n",
              "      <th>50%</th>\n",
              "      <td>235.670818</td>\n",
              "      <td>237.747465</td>\n",
              "      <td>237.140321</td>\n",
              "      <td>134.309157</td>\n",
              "      <td>79.394684</td>\n",
              "      <td>127.010467</td>\n",
              "      <td>2.000000</td>\n",
              "    </tr>\n",
              "    <tr>\n",
              "      <th>75%</th>\n",
              "      <td>238.836854</td>\n",
              "      <td>241.006772</td>\n",
              "      <td>240.096200</td>\n",
              "      <td>193.485007</td>\n",
              "      <td>126.276876</td>\n",
              "      <td>198.075779</td>\n",
              "      <td>2.000000</td>\n",
              "    </tr>\n",
              "    <tr>\n",
              "      <th>max</th>\n",
              "      <td>243.970296</td>\n",
              "      <td>246.391517</td>\n",
              "      <td>244.849825</td>\n",
              "      <td>1749.115270</td>\n",
              "      <td>1723.826154</td>\n",
              "      <td>1453.336588</td>\n",
              "      <td>3.000000</td>\n",
              "    </tr>\n",
              "  </tbody>\n",
              "</table>\n",
              "</div>"
            ],
            "text/plain": [
              "                V1           V2  ...           W3       Season\n",
              "count  4322.000000  4322.000000  ...  4322.000000  4322.000000\n",
              "mean    235.243726   237.398930  ...   156.335830     1.921795\n",
              "std       4.227069     4.307357  ...   156.578762     0.357279\n",
              "min     214.105829   215.297552  ...     0.100397     1.000000\n",
              "25%     231.922936   234.008750  ...    51.880481     2.000000\n",
              "50%     235.670818   237.747465  ...   127.010467     2.000000\n",
              "75%     238.836854   241.006772  ...   198.075779     2.000000\n",
              "max     243.970296   246.391517  ...  1453.336588     3.000000\n",
              "\n",
              "[8 rows x 7 columns]"
            ]
          },
          "metadata": {
            "tags": []
          },
          "execution_count": 366
        }
      ]
    },
    {
      "cell_type": "code",
      "metadata": {
        "id": "Q4Nps7ou2c6l"
      },
      "source": [
        "drp=df.query(\"W3<10\")\r\n",
        "drp\r\n",
        "ll=drp.index[:]\r\n",
        "\r\n",
        "df.drop(ll,inplace=True)"
      ],
      "execution_count": 415,
      "outputs": []
    },
    {
      "cell_type": "code",
      "metadata": {
        "colab": {
          "base_uri": "https://localhost:8080/",
          "height": 282
        },
        "id": "hdPLNTKYxMah",
        "outputId": "9715da65-304c-4cc7-f69a-bc3f4e3e1516"
      },
      "source": [
        "df.describe()"
      ],
      "execution_count": 417,
      "outputs": [
        {
          "output_type": "execute_result",
          "data": {
            "text/html": [
              "<div>\n",
              "<style scoped>\n",
              "    .dataframe tbody tr th:only-of-type {\n",
              "        vertical-align: middle;\n",
              "    }\n",
              "\n",
              "    .dataframe tbody tr th {\n",
              "        vertical-align: top;\n",
              "    }\n",
              "\n",
              "    .dataframe thead th {\n",
              "        text-align: right;\n",
              "    }\n",
              "</style>\n",
              "<table border=\"1\" class=\"dataframe\">\n",
              "  <thead>\n",
              "    <tr style=\"text-align: right;\">\n",
              "      <th></th>\n",
              "      <th>V1</th>\n",
              "      <th>V2</th>\n",
              "      <th>V3</th>\n",
              "      <th>W1</th>\n",
              "      <th>W2</th>\n",
              "      <th>W3</th>\n",
              "      <th>Season</th>\n",
              "    </tr>\n",
              "  </thead>\n",
              "  <tbody>\n",
              "    <tr>\n",
              "      <th>count</th>\n",
              "      <td>3869.000000</td>\n",
              "      <td>3869.000000</td>\n",
              "      <td>3869.000000</td>\n",
              "      <td>3869.000000</td>\n",
              "      <td>3869.000000</td>\n",
              "      <td>3869.000000</td>\n",
              "      <td>3869.000000</td>\n",
              "    </tr>\n",
              "    <tr>\n",
              "      <th>mean</th>\n",
              "      <td>235.321752</td>\n",
              "      <td>237.496190</td>\n",
              "      <td>236.784338</td>\n",
              "      <td>191.964223</td>\n",
              "      <td>107.675248</td>\n",
              "      <td>164.567138</td>\n",
              "      <td>1.913673</td>\n",
              "    </tr>\n",
              "    <tr>\n",
              "      <th>std</th>\n",
              "      <td>4.208735</td>\n",
              "      <td>4.309231</td>\n",
              "      <td>3.982079</td>\n",
              "      <td>174.521567</td>\n",
              "      <td>103.392241</td>\n",
              "      <td>156.168453</td>\n",
              "      <td>0.339249</td>\n",
              "    </tr>\n",
              "    <tr>\n",
              "      <th>min</th>\n",
              "      <td>214.105829</td>\n",
              "      <td>215.297552</td>\n",
              "      <td>215.190582</td>\n",
              "      <td>10.408151</td>\n",
              "      <td>10.004110</td>\n",
              "      <td>10.018986</td>\n",
              "      <td>1.000000</td>\n",
              "    </tr>\n",
              "    <tr>\n",
              "      <th>25%</th>\n",
              "      <td>232.007843</td>\n",
              "      <td>234.106263</td>\n",
              "      <td>233.617144</td>\n",
              "      <td>102.733298</td>\n",
              "      <td>44.469906</td>\n",
              "      <td>58.804254</td>\n",
              "      <td>2.000000</td>\n",
              "    </tr>\n",
              "    <tr>\n",
              "      <th>50%</th>\n",
              "      <td>235.852911</td>\n",
              "      <td>237.930159</td>\n",
              "      <td>237.308992</td>\n",
              "      <td>139.098631</td>\n",
              "      <td>86.065803</td>\n",
              "      <td>136.280240</td>\n",
              "      <td>2.000000</td>\n",
              "    </tr>\n",
              "    <tr>\n",
              "      <th>75%</th>\n",
              "      <td>238.928409</td>\n",
              "      <td>241.118592</td>\n",
              "      <td>240.163466</td>\n",
              "      <td>201.601121</td>\n",
              "      <td>132.343568</td>\n",
              "      <td>201.394917</td>\n",
              "      <td>2.000000</td>\n",
              "    </tr>\n",
              "    <tr>\n",
              "      <th>max</th>\n",
              "      <td>243.445389</td>\n",
              "      <td>246.391517</td>\n",
              "      <td>244.849825</td>\n",
              "      <td>1749.115270</td>\n",
              "      <td>1723.826154</td>\n",
              "      <td>1453.336588</td>\n",
              "      <td>3.000000</td>\n",
              "    </tr>\n",
              "  </tbody>\n",
              "</table>\n",
              "</div>"
            ],
            "text/plain": [
              "                V1           V2  ...           W3       Season\n",
              "count  3869.000000  3869.000000  ...  3869.000000  3869.000000\n",
              "mean    235.321752   237.496190  ...   164.567138     1.913673\n",
              "std       4.208735     4.309231  ...   156.168453     0.339249\n",
              "min     214.105829   215.297552  ...    10.018986     1.000000\n",
              "25%     232.007843   234.106263  ...    58.804254     2.000000\n",
              "50%     235.852911   237.930159  ...   136.280240     2.000000\n",
              "75%     238.928409   241.118592  ...   201.394917     2.000000\n",
              "max     243.445389   246.391517  ...  1453.336588     3.000000\n",
              "\n",
              "[8 rows x 7 columns]"
            ]
          },
          "metadata": {
            "tags": []
          },
          "execution_count": 417
        }
      ]
    },
    {
      "cell_type": "code",
      "metadata": {
        "colab": {
          "base_uri": "https://localhost:8080/",
          "height": 377
        },
        "id": "W79xXfzOXRXU",
        "outputId": "9371e168-5092-4d25-fb7f-00093097cfd3"
      },
      "source": [
        "df.set_index('TS')[['W1','V1','W2','W3']].plot(subplots=True)"
      ],
      "execution_count": 416,
      "outputs": [
        {
          "output_type": "execute_result",
          "data": {
            "text/plain": [
              "array([<matplotlib.axes._subplots.AxesSubplot object at 0x7f49de0766d8>,\n",
              "       <matplotlib.axes._subplots.AxesSubplot object at 0x7f49cdcf0908>,\n",
              "       <matplotlib.axes._subplots.AxesSubplot object at 0x7f49a63c4a90>,\n",
              "       <matplotlib.axes._subplots.AxesSubplot object at 0x7f49cd579cc0>],\n",
              "      dtype=object)"
            ]
          },
          "metadata": {
            "tags": []
          },
          "execution_count": 416
        },
        {
          "output_type": "display_data",
          "data": {
            "image/png": "[encoded data removed]",
            "text/plain": [
              "<Figure size 432x288 with 4 Axes>"
            ]
          },
          "metadata": {
            "tags": [],
            "needs_background": "light"
          }
        }
      ]
    },
    {
      "cell_type": "code",
      "metadata": {
        "colab": {
          "base_uri": "https://localhost:8080/",
          "height": 399
        },
        "id": "yqzyqwmRYh7K",
        "outputId": "75dbba81-b47c-455c-e153-73530f82a1aa"
      },
      "source": [
        "df_input=df.iloc[:,[4,1,5,6]]\r\n",
        "df_input"
      ],
      "execution_count": 418,
      "outputs": [
        {
          "output_type": "execute_result",
          "data": {
            "text/html": [
              "<div>\n",
              "<style scoped>\n",
              "    .dataframe tbody tr th:only-of-type {\n",
              "        vertical-align: middle;\n",
              "    }\n",
              "\n",
              "    .dataframe tbody tr th {\n",
              "        vertical-align: top;\n",
              "    }\n",
              "\n",
              "    .dataframe thead th {\n",
              "        text-align: right;\n",
              "    }\n",
              "</style>\n",
              "<table border=\"1\" class=\"dataframe\">\n",
              "  <thead>\n",
              "    <tr style=\"text-align: right;\">\n",
              "      <th></th>\n",
              "      <th>W1</th>\n",
              "      <th>V1</th>\n",
              "      <th>W2</th>\n",
              "      <th>W3</th>\n",
              "    </tr>\n",
              "  </thead>\n",
              "  <tbody>\n",
              "    <tr>\n",
              "      <th>1</th>\n",
              "      <td>115.436300</td>\n",
              "      <td>232.629286</td>\n",
              "      <td>64.306541</td>\n",
              "      <td>38.469765</td>\n",
              "    </tr>\n",
              "    <tr>\n",
              "      <th>2</th>\n",
              "      <td>80.055340</td>\n",
              "      <td>233.379785</td>\n",
              "      <td>12.996327</td>\n",
              "      <td>64.990385</td>\n",
              "    </tr>\n",
              "    <tr>\n",
              "      <th>4</th>\n",
              "      <td>73.737801</td>\n",
              "      <td>229.061954</td>\n",
              "      <td>36.306355</td>\n",
              "      <td>37.953893</td>\n",
              "    </tr>\n",
              "    <tr>\n",
              "      <th>5</th>\n",
              "      <td>74.495938</td>\n",
              "      <td>231.506477</td>\n",
              "      <td>146.169413</td>\n",
              "      <td>39.201580</td>\n",
              "    </tr>\n",
              "    <tr>\n",
              "      <th>6</th>\n",
              "      <td>75.767461</td>\n",
              "      <td>235.938781</td>\n",
              "      <td>160.391839</td>\n",
              "      <td>40.026790</td>\n",
              "    </tr>\n",
              "    <tr>\n",
              "      <th>...</th>\n",
              "      <td>...</td>\n",
              "      <td>...</td>\n",
              "      <td>...</td>\n",
              "      <td>...</td>\n",
              "    </tr>\n",
              "    <tr>\n",
              "      <th>4663</th>\n",
              "      <td>137.192589</td>\n",
              "      <td>235.441763</td>\n",
              "      <td>105.633668</td>\n",
              "      <td>57.933859</td>\n",
              "    </tr>\n",
              "    <tr>\n",
              "      <th>4664</th>\n",
              "      <td>208.269207</td>\n",
              "      <td>232.340915</td>\n",
              "      <td>204.173027</td>\n",
              "      <td>102.993996</td>\n",
              "    </tr>\n",
              "    <tr>\n",
              "      <th>4665</th>\n",
              "      <td>146.752480</td>\n",
              "      <td>231.533768</td>\n",
              "      <td>164.771038</td>\n",
              "      <td>114.729862</td>\n",
              "    </tr>\n",
              "    <tr>\n",
              "      <th>4666</th>\n",
              "      <td>67.945832</td>\n",
              "      <td>231.580498</td>\n",
              "      <td>55.652969</td>\n",
              "      <td>112.263540</td>\n",
              "    </tr>\n",
              "    <tr>\n",
              "      <th>4667</th>\n",
              "      <td>109.378342</td>\n",
              "      <td>232.444894</td>\n",
              "      <td>72.086230</td>\n",
              "      <td>104.550903</td>\n",
              "    </tr>\n",
              "  </tbody>\n",
              "</table>\n",
              "<p>3869 rows × 4 columns</p>\n",
              "</div>"
            ],
            "text/plain": [
              "              W1          V1          W2          W3\n",
              "1     115.436300  232.629286   64.306541   38.469765\n",
              "2      80.055340  233.379785   12.996327   64.990385\n",
              "4      73.737801  229.061954   36.306355   37.953893\n",
              "5      74.495938  231.506477  146.169413   39.201580\n",
              "6      75.767461  235.938781  160.391839   40.026790\n",
              "...          ...         ...         ...         ...\n",
              "4663  137.192589  235.441763  105.633668   57.933859\n",
              "4664  208.269207  232.340915  204.173027  102.993996\n",
              "4665  146.752480  231.533768  164.771038  114.729862\n",
              "4666   67.945832  231.580498   55.652969  112.263540\n",
              "4667  109.378342  232.444894   72.086230  104.550903\n",
              "\n",
              "[3869 rows x 4 columns]"
            ]
          },
          "metadata": {
            "tags": []
          },
          "execution_count": 418
        }
      ]
    },
    {
      "cell_type": "code",
      "metadata": {
        "id": "3cnxEdMimmUo"
      },
      "source": [
        ""
      ],
      "execution_count": 273,
      "outputs": []
    },
    {
      "cell_type": "code",
      "metadata": {
        "id": "F40FOx0Hnfn2",
        "colab": {
          "base_uri": "https://localhost:8080/",
          "height": 47
        },
        "outputId": "7f6f1604-bbb9-45d3-9733-e16da72e9d81"
      },
      "source": [
        "drp=df_input.query(\"W1<0.01\")\r\n",
        "drp"
      ],
      "execution_count": 333,
      "outputs": [
        {
          "output_type": "execute_result",
          "data": {
            "text/html": [
              "<div>\n",
              "<style scoped>\n",
              "    .dataframe tbody tr th:only-of-type {\n",
              "        vertical-align: middle;\n",
              "    }\n",
              "\n",
              "    .dataframe tbody tr th {\n",
              "        vertical-align: top;\n",
              "    }\n",
              "\n",
              "    .dataframe thead th {\n",
              "        text-align: right;\n",
              "    }\n",
              "</style>\n",
              "<table border=\"1\" class=\"dataframe\">\n",
              "  <thead>\n",
              "    <tr style=\"text-align: right;\">\n",
              "      <th></th>\n",
              "      <th>W1</th>\n",
              "      <th>W2</th>\n",
              "      <th>W3</th>\n",
              "    </tr>\n",
              "  </thead>\n",
              "  <tbody>\n",
              "  </tbody>\n",
              "</table>\n",
              "</div>"
            ],
            "text/plain": [
              "Empty DataFrame\n",
              "Columns: [W1, W2, W3]\n",
              "Index: []"
            ]
          },
          "metadata": {
            "tags": []
          },
          "execution_count": 333
        }
      ]
    },
    {
      "cell_type": "code",
      "metadata": {
        "id": "6LNuOpuGY_oI"
      },
      "source": [
        "scaler=preprocessing.MinMaxScaler()\r\n",
        "data_scaled=scaler.fit_transform(df_input)"
      ],
      "execution_count": 419,
      "outputs": []
    },
    {
      "cell_type": "code",
      "metadata": {
        "id": "WQ14i1TIZQwc"
      },
      "source": [
        "features=data_scaled\r\n",
        "target=data_scaled[:,0]"
      ],
      "execution_count": 420,
      "outputs": []
    },
    {
      "cell_type": "code",
      "metadata": {
        "colab": {
          "base_uri": "https://localhost:8080/"
        },
        "id": "WPZvd1QHixtp",
        "outputId": "af90a455-505e-4d30-89c3-675329d1519f"
      },
      "source": [
        "tf.keras.preprocessing.sequence.TimeseriesGenerator(features,target,length=2,sampling_rate=1,batch_size=1)[0]\r\n",
        "\r\n"
      ],
      "execution_count": 421,
      "outputs": [
        {
          "output_type": "execute_result",
          "data": {
            "text/plain": [
              "(array([[[0.06040589, 0.63134748, 0.03168499, 0.01971207],\n",
              "         [0.04005688, 0.65692723, 0.00174593, 0.03808683]]]),\n",
              " array([0.03642341]))"
            ]
          },
          "metadata": {
            "tags": []
          },
          "execution_count": 421
        }
      ]
    },
    {
      "cell_type": "code",
      "metadata": {
        "id": "LnkVx34dbEpO"
      },
      "source": [
        "x_train,x_test,y_train,y_test =model_selection.train_test_split(features,target,test_size=0.20,random_state=123,shuffle=False) "
      ],
      "execution_count": 422,
      "outputs": []
    },
    {
      "cell_type": "code",
      "metadata": {
        "id": "Gjcvu6lcQS8M",
        "colab": {
          "base_uri": "https://localhost:8080/"
        },
        "outputId": "5727bc31-6b74-4009-a4af-4b8bf8591c11"
      },
      "source": [
        "x_train.shape"
      ],
      "execution_count": 423,
      "outputs": [
        {
          "output_type": "execute_result",
          "data": {
            "text/plain": [
              "(3095, 4)"
            ]
          },
          "metadata": {
            "tags": []
          },
          "execution_count": 423
        }
      ]
    },
    {
      "cell_type": "code",
      "metadata": {
        "colab": {
          "base_uri": "https://localhost:8080/"
        },
        "id": "oIW-yh5Gb1Kn",
        "outputId": "7bd870cc-aaa2-45e4-a5a5-0438e1d6cebb"
      },
      "source": [
        "x_test.shape"
      ],
      "execution_count": 341,
      "outputs": [
        {
          "output_type": "execute_result",
          "data": {
            "text/plain": [
              "(865, 3)"
            ]
          },
          "metadata": {
            "tags": []
          },
          "execution_count": 341
        }
      ]
    },
    {
      "cell_type": "code",
      "metadata": {
        "id": "SSJtuD-Sd1A3"
      },
      "source": [
        "win_length=24\r\n",
        "num_features=4\r\n",
        "batch_size=7\r\n",
        "train_generator=tf.keras.preprocessing.sequence.TimeseriesGenerator(x_train,y_train,length=win_length,sampling_rate=1,batch_size=batch_size)\r\n",
        "test_generator=tf.keras.preprocessing.sequence.TimeseriesGenerator(x_test,y_test,length=win_length,sampling_rate=1,batch_size=batch_size)"
      ],
      "execution_count": 424,
      "outputs": []
    },
    {
      "cell_type": "code",
      "metadata": {
        "id": "pDHo2bKhevyO"
      },
      "source": [
        "train_generator[0]"
      ],
      "execution_count": null,
      "outputs": []
    },
    {
      "cell_type": "code",
      "metadata": {
        "id": "UA0zqIirN48B"
      },
      "source": [
        "model=tf.keras.Sequential()\r\n",
        "model.add(tf.keras.layers.LSTM(units=128,input_shape=(win_length,num_features),return_sequences=True))\r\n",
        "model.add(tf.keras.layers.LeakyReLU(alpha=0.5))\r\n",
        "model.add(tf.keras.layers.BatchNormalization())\r\n",
        "\r\n",
        "model.add(tf.keras.layers.LSTM(units=128,return_sequences=True))\r\n",
        "model.add(tf.keras.layers.Dropout(0.1))\r\n",
        "model.add(tf.keras.layers.BatchNormalization())\r\n",
        "\r\n",
        "model.add(tf.keras.layers.LSTM(units=64))\r\n",
        "model.add(tf.keras.layers.Dropout(0.1))\r\n",
        "model.add(tf.keras.layers.BatchNormalization())\r\n",
        "\r\n",
        "\r\n",
        "model.add(tf.keras.layers.Dense(1,activation='relu'))\r\n",
        "lr_schedule=tf.keras.optimizers.schedules.ExponentialDecay(\r\n",
        "    initial_learning_rate=0.0001,\r\n",
        "    decay_steps=1000,\r\n",
        "    decay_rate=0.20)\r\n",
        "opt=tf.keras.optimizers.Adam(learning_rate=lr_schedule)\r\n"
      ],
      "execution_count": 427,
      "outputs": []
    },
    {
      "cell_type": "code",
      "metadata": {
        "id": "k_zC8glBgVhM"
      },
      "source": [
        ""
      ],
      "execution_count": null,
      "outputs": []
    },
    {
      "cell_type": "code",
      "metadata": {
        "colab": {
          "base_uri": "https://localhost:8080/"
        },
        "id": "QNgQ-jV0fWxb",
        "outputId": "f4635b9e-6ecd-42af-95ab-77d0c424b2b6"
      },
      "source": [
        "early_stopping=tf.keras.callbacks.EarlyStopping(monitor='val_loss',patience=2,mode='min')\r\n",
        "model.compile(optimizer=opt,loss='mse',metrics=[tf.metrics.MeanAbsoluteError()])\r\n",
        "his=model.fit_generator(train_generator,epochs=50,validation_data=test_generator,shuffle=False,callbacks=[early_stopping])\r\n",
        "model.summary()"
      ],
      "execution_count": 428,
      "outputs": [
        {
          "output_type": "stream",
          "text": [
            "/usr/local/lib/python3.6/dist-packages/tensorflow/python/keras/engine/training.py:1844: UserWarning: `Model.fit_generator` is deprecated and will be removed in a future version. Please use `Model.fit`, which supports generators.\n",
            "  warnings.warn('`Model.fit_generator` is deprecated and '\n"
          ],
          "name": "stderr"
        },
        {
          "output_type": "stream",
          "text": [
            "Epoch 1/50\n",
            "439/439 [==============================] - 10s 13ms/step - loss: 0.3670 - mean_absolute_error: 0.3642 - val_loss: 0.4868 - val_mean_absolute_error: 0.6496\n",
            "Epoch 2/50\n",
            "439/439 [==============================] - 5s 11ms/step - loss: 0.1710 - mean_absolute_error: 0.2442 - val_loss: 0.0108 - val_mean_absolute_error: 0.0735\n",
            "Epoch 3/50\n",
            "439/439 [==============================] - 5s 11ms/step - loss: 0.1308 - mean_absolute_error: 0.2104 - val_loss: 0.0637 - val_mean_absolute_error: 0.1186\n",
            "Epoch 4/50\n",
            "439/439 [==============================] - 5s 11ms/step - loss: 0.1043 - mean_absolute_error: 0.1920 - val_loss: 0.0917 - val_mean_absolute_error: 0.1501\n",
            "Model: \"sequential_13\"\n",
            "_________________________________________________________________\n",
            "Layer (type)                 Output Shape              Param #   \n",
            "=================================================================\n",
            "lstm_39 (LSTM)               (None, 24, 128)           68096     \n",
            "_________________________________________________________________\n",
            "leaky_re_lu_13 (LeakyReLU)   (None, 24, 128)           0         \n",
            "_________________________________________________________________\n",
            "batch_normalization_39 (Batc (None, 24, 128)           512       \n",
            "_________________________________________________________________\n",
            "lstm_40 (LSTM)               (None, 24, 128)           131584    \n",
            "_________________________________________________________________\n",
            "dropout_26 (Dropout)         (None, 24, 128)           0         \n",
            "_________________________________________________________________\n",
            "batch_normalization_40 (Batc (None, 24, 128)           512       \n",
            "_________________________________________________________________\n",
            "lstm_41 (LSTM)               (None, 64)                49408     \n",
            "_________________________________________________________________\n",
            "dropout_27 (Dropout)         (None, 64)                0         \n",
            "_________________________________________________________________\n",
            "batch_normalization_41 (Batc (None, 64)                256       \n",
            "_________________________________________________________________\n",
            "dense_13 (Dense)             (None, 1)                 65        \n",
            "=================================================================\n",
            "Total params: 250,433\n",
            "Trainable params: 249,793\n",
            "Non-trainable params: 640\n",
            "_________________________________________________________________\n"
          ],
          "name": "stdout"
        }
      ]
    },
    {
      "cell_type": "code",
      "metadata": {
        "colab": {
          "base_uri": "https://localhost:8080/"
        },
        "id": "JxGrwrPbgmio",
        "outputId": "b43a24b3-8603-48c0-d1fe-087fde8f3956"
      },
      "source": [
        "model.evaluate_generator(test_generator,verbose=0)"
      ],
      "execution_count": 429,
      "outputs": [
        {
          "output_type": "stream",
          "text": [
            "/usr/local/lib/python3.6/dist-packages/tensorflow/python/keras/engine/training.py:1877: UserWarning: `Model.evaluate_generator` is deprecated and will be removed in a future version. Please use `Model.evaluate`, which supports generators.\n",
            "  warnings.warn('`Model.evaluate_generator` is deprecated and '\n"
          ],
          "name": "stderr"
        },
        {
          "output_type": "execute_result",
          "data": {
            "text/plain": [
              "[0.09174934029579163, 0.15010741353034973]"
            ]
          },
          "metadata": {
            "tags": []
          },
          "execution_count": 429
        }
      ]
    },
    {
      "cell_type": "code",
      "metadata": {
        "colab": {
          "base_uri": "https://localhost:8080/"
        },
        "id": "SHQiqrXrgvi6",
        "outputId": "30d07b8e-e084-4562-aa52-0a65ae1b9a3c"
      },
      "source": [
        "predicts=model.predict_generator(test_generator)"
      ],
      "execution_count": 430,
      "outputs": [
        {
          "output_type": "stream",
          "text": [
            "/usr/local/lib/python3.6/dist-packages/tensorflow/python/keras/engine/training.py:1905: UserWarning: `Model.predict_generator` is deprecated and will be removed in a future version. Please use `Model.predict`, which supports generators.\n",
            "  warnings.warn('`Model.predict_generator` is deprecated and '\n"
          ],
          "name": "stderr"
        }
      ]
    },
    {
      "cell_type": "code",
      "metadata": {
        "colab": {
          "base_uri": "https://localhost:8080/"
        },
        "id": "3mHvv_1wg3gm",
        "outputId": "fa3d16db-1d11-45d5-ebe3-d745f913cd10"
      },
      "source": [
        "predicts.shape"
      ],
      "execution_count": 431,
      "outputs": [
        {
          "output_type": "execute_result",
          "data": {
            "text/plain": [
              "(750, 1)"
            ]
          },
          "metadata": {
            "tags": []
          },
          "execution_count": 431
        }
      ]
    },
    {
      "cell_type": "code",
      "metadata": {
        "id": "juYfiOttg6aO"
      },
      "source": [
        "predicts"
      ],
      "execution_count": null,
      "outputs": []
    },
    {
      "cell_type": "code",
      "metadata": {
        "id": "Amc4Obj2hFEK"
      },
      "source": [
        "y_test"
      ],
      "execution_count": null,
      "outputs": []
    },
    {
      "cell_type": "code",
      "metadata": {
        "colab": {
          "base_uri": "https://localhost:8080/"
        },
        "id": "EirPz_gHhHcp",
        "outputId": "4c276464-93f1-49bc-ea76-1afd5f6dd6e5"
      },
      "source": [
        "x_test"
      ],
      "execution_count": 432,
      "outputs": [
        {
          "output_type": "execute_result",
          "data": {
            "text/plain": [
              "array([[0.24761795, 0.67372179, 0.02192526, 0.11777488],\n",
              "       [0.06884921, 0.88913631, 0.02162052, 0.100544  ],\n",
              "       [0.05960741, 0.75774248, 0.0372386 , 0.10505921],\n",
              "       ...,\n",
              "       [0.07841708, 0.5940082 , 0.09030513, 0.07254874],\n",
              "       [0.03309222, 0.59560094, 0.02663571, 0.07083995],\n",
              "       [0.05692172, 0.6250627 , 0.03622437, 0.06549627]])"
            ]
          },
          "metadata": {
            "tags": []
          },
          "execution_count": 432
        }
      ]
    },
    {
      "cell_type": "code",
      "metadata": {
        "colab": {
          "base_uri": "https://localhost:8080/"
        },
        "id": "GkPx0MrmhJK4",
        "outputId": "ac6ffcd7-13b0-468f-8553-0f8c5201178b"
      },
      "source": [
        "x_test[:,1:][win_length:]"
      ],
      "execution_count": 433,
      "outputs": [
        {
          "output_type": "execute_result",
          "data": {
            "text/plain": [
              "array([[0.54162701, 0.05912702, 0.10604421],\n",
              "       [0.69026481, 0.0465728 , 0.10348884],\n",
              "       [0.56743595, 0.06888438, 0.05167636],\n",
              "       ...,\n",
              "       [0.5940082 , 0.09030513, 0.07254874],\n",
              "       [0.59560094, 0.02663571, 0.07083995],\n",
              "       [0.6250627 , 0.03622437, 0.06549627]])"
            ]
          },
          "metadata": {
            "tags": []
          },
          "execution_count": 433
        }
      ]
    },
    {
      "cell_type": "code",
      "metadata": {
        "id": "kQS19Uk1hZFO"
      },
      "source": [
        "df_pred=pd.concat([pd.DataFrame(predicts),pd.DataFrame(x_test[:,1:][win_length:])],axis=1)"
      ],
      "execution_count": 434,
      "outputs": []
    },
    {
      "cell_type": "code",
      "metadata": {
        "colab": {
          "base_uri": "https://localhost:8080/",
          "height": 399
        },
        "id": "Ezv6O0zQiJmz",
        "outputId": "51be1e9b-a994-4d3c-ddbb-bcb25ff2fe4a"
      },
      "source": [
        "df_pred"
      ],
      "execution_count": 400,
      "outputs": [
        {
          "output_type": "execute_result",
          "data": {
            "text/html": [
              "<div>\n",
              "<style scoped>\n",
              "    .dataframe tbody tr th:only-of-type {\n",
              "        vertical-align: middle;\n",
              "    }\n",
              "\n",
              "    .dataframe tbody tr th {\n",
              "        vertical-align: top;\n",
              "    }\n",
              "\n",
              "    .dataframe thead th {\n",
              "        text-align: right;\n",
              "    }\n",
              "</style>\n",
              "<table border=\"1\" class=\"dataframe\">\n",
              "  <thead>\n",
              "    <tr style=\"text-align: right;\">\n",
              "      <th></th>\n",
              "      <th>0</th>\n",
              "      <th>0</th>\n",
              "      <th>1</th>\n",
              "    </tr>\n",
              "  </thead>\n",
              "  <tbody>\n",
              "    <tr>\n",
              "      <th>0</th>\n",
              "      <td>0.0</td>\n",
              "      <td>0.059127</td>\n",
              "      <td>0.106044</td>\n",
              "    </tr>\n",
              "    <tr>\n",
              "      <th>1</th>\n",
              "      <td>0.0</td>\n",
              "      <td>0.046573</td>\n",
              "      <td>0.103489</td>\n",
              "    </tr>\n",
              "    <tr>\n",
              "      <th>2</th>\n",
              "      <td>0.0</td>\n",
              "      <td>0.068884</td>\n",
              "      <td>0.051676</td>\n",
              "    </tr>\n",
              "    <tr>\n",
              "      <th>3</th>\n",
              "      <td>0.0</td>\n",
              "      <td>0.065157</td>\n",
              "      <td>0.093021</td>\n",
              "    </tr>\n",
              "    <tr>\n",
              "      <th>4</th>\n",
              "      <td>0.0</td>\n",
              "      <td>0.036358</td>\n",
              "      <td>0.090657</td>\n",
              "    </tr>\n",
              "    <tr>\n",
              "      <th>...</th>\n",
              "      <td>...</td>\n",
              "      <td>...</td>\n",
              "      <td>...</td>\n",
              "    </tr>\n",
              "    <tr>\n",
              "      <th>745</th>\n",
              "      <td>0.0</td>\n",
              "      <td>0.055799</td>\n",
              "      <td>0.033198</td>\n",
              "    </tr>\n",
              "    <tr>\n",
              "      <th>746</th>\n",
              "      <td>0.0</td>\n",
              "      <td>0.113296</td>\n",
              "      <td>0.064418</td>\n",
              "    </tr>\n",
              "    <tr>\n",
              "      <th>747</th>\n",
              "      <td>0.0</td>\n",
              "      <td>0.090305</td>\n",
              "      <td>0.072549</td>\n",
              "    </tr>\n",
              "    <tr>\n",
              "      <th>748</th>\n",
              "      <td>0.0</td>\n",
              "      <td>0.026636</td>\n",
              "      <td>0.070840</td>\n",
              "    </tr>\n",
              "    <tr>\n",
              "      <th>749</th>\n",
              "      <td>0.0</td>\n",
              "      <td>0.036224</td>\n",
              "      <td>0.065496</td>\n",
              "    </tr>\n",
              "  </tbody>\n",
              "</table>\n",
              "<p>750 rows × 3 columns</p>\n",
              "</div>"
            ],
            "text/plain": [
              "       0         0         1\n",
              "0    0.0  0.059127  0.106044\n",
              "1    0.0  0.046573  0.103489\n",
              "2    0.0  0.068884  0.051676\n",
              "3    0.0  0.065157  0.093021\n",
              "4    0.0  0.036358  0.090657\n",
              "..   ...       ...       ...\n",
              "745  0.0  0.055799  0.033198\n",
              "746  0.0  0.113296  0.064418\n",
              "747  0.0  0.090305  0.072549\n",
              "748  0.0  0.026636  0.070840\n",
              "749  0.0  0.036224  0.065496\n",
              "\n",
              "[750 rows x 3 columns]"
            ]
          },
          "metadata": {
            "tags": []
          },
          "execution_count": 400
        }
      ]
    },
    {
      "cell_type": "code",
      "metadata": {
        "id": "tEOGmwOshzma"
      },
      "source": [
        "revt=scaler.inverse_transform(df_pred)"
      ],
      "execution_count": 435,
      "outputs": []
    },
    {
      "cell_type": "code",
      "metadata": {
        "colab": {
          "base_uri": "https://localhost:8080/"
        },
        "id": "AjP5XizZiNUT",
        "outputId": "6d4742a2-32fe-4d04-e79b-198be764f872"
      },
      "source": [
        "revt"
      ],
      "execution_count": 323,
      "outputs": [
        {
          "output_type": "execute_result",
          "data": {
            "text/plain": [
              "array([[1.12911863e-01, 8.32428737e+01, 8.31384502e+01],\n",
              "       [1.12911863e-01, 1.69012240e+02, 1.51049109e+02],\n",
              "       [1.12911863e-01, 1.16833931e+02, 1.39312881e+02],\n",
              "       ...,\n",
              "       [1.12911863e-01, 1.64771038e+02, 1.14729862e+02],\n",
              "       [1.12911863e-01, 5.56529687e+01, 1.12263540e+02],\n",
              "       [1.12911863e-01, 7.20862300e+01, 1.04550903e+02]])"
            ]
          },
          "metadata": {
            "tags": []
          },
          "execution_count": 323
        }
      ]
    },
    {
      "cell_type": "code",
      "metadata": {
        "id": "6kwpUA20h5u_"
      },
      "source": [
        "df_final=df_input[predicts.shape[0]*-1:]"
      ],
      "execution_count": 436,
      "outputs": []
    },
    {
      "cell_type": "code",
      "metadata": {
        "colab": {
          "base_uri": "https://localhost:8080/"
        },
        "id": "E2BCClU9iEKE",
        "outputId": "72d71ce9-2fec-431a-d3af-95104e0ad8a1"
      },
      "source": [
        "df_final.count()"
      ],
      "execution_count": 437,
      "outputs": [
        {
          "output_type": "execute_result",
          "data": {
            "text/plain": [
              "W1    750\n",
              "V1    750\n",
              "W2    750\n",
              "W3    750\n",
              "dtype: int64"
            ]
          },
          "metadata": {
            "tags": []
          },
          "execution_count": 437
        }
      ]
    },
    {
      "cell_type": "code",
      "metadata": {
        "colab": {
          "base_uri": "https://localhost:8080/"
        },
        "id": "WxqFOPrniHWf",
        "outputId": "24c032ef-3a64-4daf-8981-66daf45805f5"
      },
      "source": [
        "df_final['Predictions']=revt[:,0].copy()"
      ],
      "execution_count": 438,
      "outputs": [
        {
          "output_type": "stream",
          "text": [
            "/usr/local/lib/python3.6/dist-packages/ipykernel_launcher.py:1: SettingWithCopyWarning: \n",
            "A value is trying to be set on a copy of a slice from a DataFrame.\n",
            "Try using .loc[row_indexer,col_indexer] = value instead\n",
            "\n",
            "See the caveats in the documentation: https://pandas.pydata.org/pandas-docs/stable/user_guide/indexing.html#returning-a-view-versus-a-copy\n",
            "  \"\"\"Entry point for launching an IPython kernel.\n"
          ],
          "name": "stderr"
        }
      ]
    },
    {
      "cell_type": "code",
      "metadata": {
        "colab": {
          "base_uri": "https://localhost:8080/",
          "height": 399
        },
        "id": "LeyESHl0ipQm",
        "outputId": "35cc30e3-ef89-4630-d6ea-9227ddbef263"
      },
      "source": [
        "df_final"
      ],
      "execution_count": 439,
      "outputs": [
        {
          "output_type": "execute_result",
          "data": {
            "text/html": [
              "<div>\n",
              "<style scoped>\n",
              "    .dataframe tbody tr th:only-of-type {\n",
              "        vertical-align: middle;\n",
              "    }\n",
              "\n",
              "    .dataframe tbody tr th {\n",
              "        vertical-align: top;\n",
              "    }\n",
              "\n",
              "    .dataframe thead th {\n",
              "        text-align: right;\n",
              "    }\n",
              "</style>\n",
              "<table border=\"1\" class=\"dataframe\">\n",
              "  <thead>\n",
              "    <tr style=\"text-align: right;\">\n",
              "      <th></th>\n",
              "      <th>W1</th>\n",
              "      <th>V1</th>\n",
              "      <th>W2</th>\n",
              "      <th>W3</th>\n",
              "      <th>Predictions</th>\n",
              "    </tr>\n",
              "  </thead>\n",
              "  <tbody>\n",
              "    <tr>\n",
              "      <th>3414</th>\n",
              "      <td>106.432337</td>\n",
              "      <td>229.996927</td>\n",
              "      <td>111.337295</td>\n",
              "      <td>163.074463</td>\n",
              "      <td>10.408151</td>\n",
              "    </tr>\n",
              "    <tr>\n",
              "      <th>3415</th>\n",
              "      <td>111.234729</td>\n",
              "      <td>234.357895</td>\n",
              "      <td>89.821604</td>\n",
              "      <td>159.386256</td>\n",
              "      <td>10.408151</td>\n",
              "    </tr>\n",
              "    <tr>\n",
              "      <th>3416</th>\n",
              "      <td>355.436123</td>\n",
              "      <td>230.754150</td>\n",
              "      <td>128.059677</td>\n",
              "      <td>84.604379</td>\n",
              "      <td>10.408151</td>\n",
              "    </tr>\n",
              "    <tr>\n",
              "      <th>3417</th>\n",
              "      <td>132.552967</td>\n",
              "      <td>229.919147</td>\n",
              "      <td>121.671129</td>\n",
              "      <td>144.277232</td>\n",
              "      <td>10.408151</td>\n",
              "    </tr>\n",
              "    <tr>\n",
              "      <th>3418</th>\n",
              "      <td>144.938692</td>\n",
              "      <td>230.682294</td>\n",
              "      <td>72.315603</td>\n",
              "      <td>140.865814</td>\n",
              "      <td>10.408151</td>\n",
              "    </tr>\n",
              "    <tr>\n",
              "      <th>...</th>\n",
              "      <td>...</td>\n",
              "      <td>...</td>\n",
              "      <td>...</td>\n",
              "      <td>...</td>\n",
              "      <td>...</td>\n",
              "    </tr>\n",
              "    <tr>\n",
              "      <th>4663</th>\n",
              "      <td>137.192589</td>\n",
              "      <td>235.441763</td>\n",
              "      <td>105.633668</td>\n",
              "      <td>57.933859</td>\n",
              "      <td>10.408151</td>\n",
              "    </tr>\n",
              "    <tr>\n",
              "      <th>4664</th>\n",
              "      <td>208.269207</td>\n",
              "      <td>232.340915</td>\n",
              "      <td>204.173027</td>\n",
              "      <td>102.993996</td>\n",
              "      <td>10.408151</td>\n",
              "    </tr>\n",
              "    <tr>\n",
              "      <th>4665</th>\n",
              "      <td>146.752480</td>\n",
              "      <td>231.533768</td>\n",
              "      <td>164.771038</td>\n",
              "      <td>114.729862</td>\n",
              "      <td>10.408151</td>\n",
              "    </tr>\n",
              "    <tr>\n",
              "      <th>4666</th>\n",
              "      <td>67.945832</td>\n",
              "      <td>231.580498</td>\n",
              "      <td>55.652969</td>\n",
              "      <td>112.263540</td>\n",
              "      <td>10.408151</td>\n",
              "    </tr>\n",
              "    <tr>\n",
              "      <th>4667</th>\n",
              "      <td>109.378342</td>\n",
              "      <td>232.444894</td>\n",
              "      <td>72.086230</td>\n",
              "      <td>104.550903</td>\n",
              "      <td>10.408151</td>\n",
              "    </tr>\n",
              "  </tbody>\n",
              "</table>\n",
              "<p>750 rows × 5 columns</p>\n",
              "</div>"
            ],
            "text/plain": [
              "              W1          V1          W2          W3  Predictions\n",
              "3414  106.432337  229.996927  111.337295  163.074463    10.408151\n",
              "3415  111.234729  234.357895   89.821604  159.386256    10.408151\n",
              "3416  355.436123  230.754150  128.059677   84.604379    10.408151\n",
              "3417  132.552967  229.919147  121.671129  144.277232    10.408151\n",
              "3418  144.938692  230.682294   72.315603  140.865814    10.408151\n",
              "...          ...         ...         ...         ...          ...\n",
              "4663  137.192589  235.441763  105.633668   57.933859    10.408151\n",
              "4664  208.269207  232.340915  204.173027  102.993996    10.408151\n",
              "4665  146.752480  231.533768  164.771038  114.729862    10.408151\n",
              "4666   67.945832  231.580498   55.652969  112.263540    10.408151\n",
              "4667  109.378342  232.444894   72.086230  104.550903    10.408151\n",
              "\n",
              "[750 rows x 5 columns]"
            ]
          },
          "metadata": {
            "tags": []
          },
          "execution_count": 439
        }
      ]
    },
    {
      "cell_type": "code",
      "metadata": {
        "colab": {
          "base_uri": "https://localhost:8080/",
          "height": 283
        },
        "id": "3UR3qvE_itqE",
        "outputId": "03941627-8c10-4ffc-c1c2-187b682856e2"
      },
      "source": [
        "df_final[['W1','Predictions']].plot()"
      ],
      "execution_count": 442,
      "outputs": [
        {
          "output_type": "execute_result",
          "data": {
            "text/plain": [
              "<matplotlib.axes._subplots.AxesSubplot at 0x7f49a1e7cc18>"
            ]
          },
          "metadata": {
            "tags": []
          },
          "execution_count": 442
        },
        {
          "output_type": "display_data",
          "data": {
            "image/png": "[encoded data removed]",
            "text/plain": [
              "<Figure size 432x288 with 1 Axes>"
            ]
          },
          "metadata": {
            "tags": [],
            "needs_background": "light"
          }
        }
      ]
    }
  ]
}