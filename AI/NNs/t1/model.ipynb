{
  "nbformat": 4,
  "nbformat_minor": 0,
  "metadata": {
    "colab": {
      "name": "model.ipynb",
      "provenance": [],
      "collapsed_sections": []
    },
    "kernelspec": {
      "name": "python3",
      "display_name": "Python 3"
    },
    "accelerator": "GPU"
  },
  "cells": [
    {
      "cell_type": "code",
      "metadata": {
        "id": "njlOYxY4M7Cu"
      },
      "source": [
        "import IPython\r\n",
        "import IPython.display\r\n",
        "import matplotlib as mpl\r\n",
        "import matplotlib.pyplot as plt\r\n",
        "import numpy as np\r\n",
        "import pandas as pd\r\n",
        "import seaborn as sns\r\n",
        "import tensorflow as tf\r\n",
        "from keras.utils import to_categorical\r\n",
        "from sklearn import preprocessing\r\n",
        "from collections import deque\r\n",
        "import random\r\n",
        "from numpy import newaxis\r\n",
        "import sys\r\n"
      ],
      "execution_count": 9,
      "outputs": []
    },
    {
      "cell_type": "code",
      "metadata": {
        "colab": {
          "base_uri": "https://localhost:8080/"
        },
        "id": "C3Y0Y5T5KX9r",
        "outputId": "eb652296-22ed-4d69-916a-d29a3c0d509a"
      },
      "source": [
        "from google.colab import drive\r\n",
        "\r\n",
        "drive.mount('/content/gdrive')"
      ],
      "execution_count": 10,
      "outputs": [
        {
          "output_type": "stream",
          "text": [
            "Drive already mounted at /content/gdrive; to attempt to forcibly remount, call drive.mount(\"/content/gdrive\", force_remount=True).\n"
          ],
          "name": "stdout"
        }
      ]
    },
    {
      "cell_type": "code",
      "metadata": {
        "id": "Nau3d_phMu_m"
      },
      "source": [
        "with open('/content/gdrive/MyDrive/Colab Notebooks/data/modified (1).csv', 'r') as z:\n",
        "    df = pd.DataFrame(pd.read_csv(z))\n",
        "\n",
        "df.set_index('TS',inplace=True)"
      ],
      "execution_count": 11,
      "outputs": []
    },
    {
      "cell_type": "code",
      "metadata": {
        "id": "gE5XdJ-QYEBm"
      },
      "source": [
        "seqlen=20\r\n",
        "def prep(df):\r\n",
        "  for col in df.columns:\r\n",
        "    if col!= \"Season\":\r\n",
        "      df[col]=df[col].pct_change()\r\n",
        "      df.dropna(inplace=True)\r\n",
        "      df[col]=preprocessing.scale(df[col].values)\r\n",
        "  return df\r\n",
        "\r\n",
        "df.dropna(inplace=True)\r\n",
        "seq_d=[]\r\n",
        "pre=deque(maxlen=seqlen)\r\n",
        "for i in df.values:\r\n",
        "  pre.append([n for n in i[:-1]])\r\n",
        "  if len(pre)==seqlen:\r\n",
        "    seq_d.append([np.array(pre),i[:-1]])\r\n",
        "\r\n",
        "random.shuffle(seq_d)"
      ],
      "execution_count": 12,
      "outputs": []
    },
    {
      "cell_type": "markdown",
      "metadata": {
        "id": "agd0jGC0OdpC"
      },
      "source": [
        "df.drop([\"Unnamed: 0\"],axis=1,inplace=True)"
      ]
    },
    {
      "cell_type": "code",
      "metadata": {
        "id": "sw_10mcfNB5c",
        "colab": {
          "base_uri": "https://localhost:8080/",
          "height": 431
        },
        "outputId": "32dd6c04-7d77-4bac-f3f5-4d1005807cac"
      },
      "source": [
        "df.head()\r\n",
        "l=df.iloc[:,[0,1,2,4,5,6]]\r\n",
        "l"
      ],
      "execution_count": 13,
      "outputs": [
        {
          "output_type": "execute_result",
          "data": {
            "text/html": [
              "<div>\n",
              "<style scoped>\n",
              "    .dataframe tbody tr th:only-of-type {\n",
              "        vertical-align: middle;\n",
              "    }\n",
              "\n",
              "    .dataframe tbody tr th {\n",
              "        vertical-align: top;\n",
              "    }\n",
              "\n",
              "    .dataframe thead th {\n",
              "        text-align: right;\n",
              "    }\n",
              "</style>\n",
              "<table border=\"1\" class=\"dataframe\">\n",
              "  <thead>\n",
              "    <tr style=\"text-align: right;\">\n",
              "      <th></th>\n",
              "      <th>V1</th>\n",
              "      <th>V2</th>\n",
              "      <th>V3</th>\n",
              "      <th>W2</th>\n",
              "      <th>W3</th>\n",
              "      <th>Season</th>\n",
              "    </tr>\n",
              "    <tr>\n",
              "      <th>TS</th>\n",
              "      <th></th>\n",
              "      <th></th>\n",
              "      <th></th>\n",
              "      <th></th>\n",
              "      <th></th>\n",
              "      <th></th>\n",
              "    </tr>\n",
              "  </thead>\n",
              "  <tbody>\n",
              "    <tr>\n",
              "      <th>1481779800</th>\n",
              "      <td>230.459834</td>\n",
              "      <td>232.246458</td>\n",
              "      <td>231.743727</td>\n",
              "      <td>61.896241</td>\n",
              "      <td>0.106471</td>\n",
              "      <td>1</td>\n",
              "    </tr>\n",
              "    <tr>\n",
              "      <th>1481794200</th>\n",
              "      <td>232.629286</td>\n",
              "      <td>235.258992</td>\n",
              "      <td>233.957315</td>\n",
              "      <td>64.306541</td>\n",
              "      <td>38.469765</td>\n",
              "      <td>1</td>\n",
              "    </tr>\n",
              "    <tr>\n",
              "      <th>1481797800</th>\n",
              "      <td>233.379785</td>\n",
              "      <td>234.766217</td>\n",
              "      <td>232.949642</td>\n",
              "      <td>12.996327</td>\n",
              "      <td>64.990385</td>\n",
              "      <td>1</td>\n",
              "    </tr>\n",
              "    <tr>\n",
              "      <th>1481862600</th>\n",
              "      <td>230.026178</td>\n",
              "      <td>230.905907</td>\n",
              "      <td>230.556791</td>\n",
              "      <td>0.713788</td>\n",
              "      <td>0.502634</td>\n",
              "      <td>1</td>\n",
              "    </tr>\n",
              "    <tr>\n",
              "      <th>1481866200</th>\n",
              "      <td>229.061954</td>\n",
              "      <td>232.196039</td>\n",
              "      <td>231.070804</td>\n",
              "      <td>36.306355</td>\n",
              "      <td>37.953893</td>\n",
              "      <td>1</td>\n",
              "    </tr>\n",
              "    <tr>\n",
              "      <th>...</th>\n",
              "      <td>...</td>\n",
              "      <td>...</td>\n",
              "      <td>...</td>\n",
              "      <td>...</td>\n",
              "      <td>...</td>\n",
              "      <td>...</td>\n",
              "    </tr>\n",
              "    <tr>\n",
              "      <th>1528120800</th>\n",
              "      <td>235.441763</td>\n",
              "      <td>236.377831</td>\n",
              "      <td>235.032985</td>\n",
              "      <td>105.633668</td>\n",
              "      <td>57.933859</td>\n",
              "      <td>2</td>\n",
              "    </tr>\n",
              "    <tr>\n",
              "      <th>1528124400</th>\n",
              "      <td>232.340915</td>\n",
              "      <td>233.185799</td>\n",
              "      <td>232.158858</td>\n",
              "      <td>204.173027</td>\n",
              "      <td>102.993996</td>\n",
              "      <td>2</td>\n",
              "    </tr>\n",
              "    <tr>\n",
              "      <th>1528128000</th>\n",
              "      <td>231.533768</td>\n",
              "      <td>231.922184</td>\n",
              "      <td>231.052265</td>\n",
              "      <td>164.771038</td>\n",
              "      <td>114.729862</td>\n",
              "      <td>2</td>\n",
              "    </tr>\n",
              "    <tr>\n",
              "      <th>1528131600</th>\n",
              "      <td>231.580498</td>\n",
              "      <td>230.829861</td>\n",
              "      <td>230.575344</td>\n",
              "      <td>55.652969</td>\n",
              "      <td>112.263540</td>\n",
              "      <td>2</td>\n",
              "    </tr>\n",
              "    <tr>\n",
              "      <th>1528135200</th>\n",
              "      <td>232.444894</td>\n",
              "      <td>232.742972</td>\n",
              "      <td>232.373671</td>\n",
              "      <td>72.086230</td>\n",
              "      <td>104.550903</td>\n",
              "      <td>2</td>\n",
              "    </tr>\n",
              "  </tbody>\n",
              "</table>\n",
              "<p>4668 rows × 6 columns</p>\n",
              "</div>"
            ],
            "text/plain": [
              "                    V1          V2          V3          W2          W3  Season\n",
              "TS                                                                            \n",
              "1481779800  230.459834  232.246458  231.743727   61.896241    0.106471       1\n",
              "1481794200  232.629286  235.258992  233.957315   64.306541   38.469765       1\n",
              "1481797800  233.379785  234.766217  232.949642   12.996327   64.990385       1\n",
              "1481862600  230.026178  230.905907  230.556791    0.713788    0.502634       1\n",
              "1481866200  229.061954  232.196039  231.070804   36.306355   37.953893       1\n",
              "...                ...         ...         ...         ...         ...     ...\n",
              "1528120800  235.441763  236.377831  235.032985  105.633668   57.933859       2\n",
              "1528124400  232.340915  233.185799  232.158858  204.173027  102.993996       2\n",
              "1528128000  231.533768  231.922184  231.052265  164.771038  114.729862       2\n",
              "1528131600  231.580498  230.829861  230.575344   55.652969  112.263540       2\n",
              "1528135200  232.444894  232.742972  232.373671   72.086230  104.550903       2\n",
              "\n",
              "[4668 rows x 6 columns]"
            ]
          },
          "metadata": {
            "tags": []
          },
          "execution_count": 13
        }
      ]
    },
    {
      "cell_type": "code",
      "metadata": {
        "colab": {
          "base_uri": "https://localhost:8080/"
        },
        "id": "WPZvd1QHixtp",
        "outputId": "df313f2c-9900-4c5d-80dd-81f9ee0bc4fc"
      },
      "source": [
        "train=df.iloc[:4435].copy()\r\n",
        "valid=df.iloc[4435:].copy()\r\n",
        "train.dropna(axis=0)\r\n",
        "valid.dropna(axis=0)\r\n",
        "\r\n",
        "valid_x=prep(valid)\r\n",
        "valid_x.dropna(axis=0)\r\n",
        "valid_y=prep(valid)\r\n",
        "valid_y.dropna(axis=0)\r\n",
        "\r\n",
        "valid_x=(valid_x).to_numpy()\r\n",
        "valid_x=valid_x[:,newaxis,:]\r\n",
        "print(valid_x.shape)\r\n",
        "\r\n",
        "valid_y=(valid_y).to_numpy()\r\n",
        "valid_y=valid_y[:,newaxis,:]\r\n",
        "print(valid_y.shape)\r\n",
        "\r\n",
        "train_x=prep(train)\r\n",
        "train_x.dropna(axis=0)\r\n",
        "train_x=train_x[:4423]\r\n",
        "train_x=(train_x).to_numpy()\r\n",
        "train_x=train_x[:,newaxis,:]\r\n",
        "print(train_x.shape)\r\n",
        "\r\n",
        "train_y=prep(train)\r\n",
        "train_y.dropna(axis=0)\r\n",
        "train_y=train_y[:4423]\r\n",
        "train_y=(train_y).to_numpy()\r\n",
        "train_y=train_y[:,newaxis,:]\r\n",
        "print(train_y.shape)\r\n",
        "\r\n",
        "\r\n"
      ],
      "execution_count": 14,
      "outputs": [
        {
          "output_type": "stream",
          "text": [
            "(221, 1, 7)\n",
            "(221, 1, 7)\n",
            "(4423, 1, 7)\n",
            "(4423, 1, 7)\n"
          ],
          "name": "stdout"
        }
      ]
    },
    {
      "cell_type": "code",
      "metadata": {
        "id": "Gjcvu6lcQS8M"
      },
      "source": [
        "\r\n",
        "print(train_x.shape)\r\n",
        "print(train_y.shape)"
      ],
      "execution_count": null,
      "outputs": []
    },
    {
      "cell_type": "code",
      "metadata": {
        "id": "UA0zqIirN48B"
      },
      "source": [
        "model=tf.keras.Sequential()\r\n",
        "model.add(tf.keras.layers.LSTM(units=128,input_shape=(train_x.shape[1:]),return_sequences=True))\r\n",
        "model.add(tf.keras.layers.Dropout(0.2))\r\n",
        "model.add(tf.keras.layers.BatchNormalization())\r\n",
        "\r\n",
        "model.add(tf.keras.layers.LSTM(units=64,input_shape=(train_x.shape[1:]),return_sequences=True))\r\n",
        "model.add(tf.keras.layers.Dropout(0.2))\r\n",
        "model.add(tf.keras.layers.BatchNormalization())\r\n",
        "\r\n",
        "model.add(tf.keras.layers.LSTM(units=64,input_shape=(train_x.shape[1:])))\r\n",
        "model.add(tf.keras.layers.Dropout(0.2))\r\n",
        "model.add(tf.keras.layers.BatchNormalization())\r\n",
        "\r\n",
        "model.add(tf.keras.layers.Dense(units=64,input_shape=(train_x.shape[1:]),activation=tf.keras.layers.PReLU()))\r\n",
        "model.add(tf.keras.layers.Dropout(0.2))\r\n",
        "model.add(tf.keras.layers.BatchNormalization())\r\n",
        "model.add(tf.keras.layers.Dense(1,activation='relu'))\r\n",
        "\r\n",
        "opt=tf.keras.optimizers.Adam(learning_rate=1e-6)\r\n",
        "model.compile(optimizer=opt,loss='mae',metrics=['accuracy'])\r\n",
        "model.fit(train_x,train_y,epochs=36,validation_data=(valid_x,valid_y))\r\n",
        "model.summary()"
      ],
      "execution_count": null,
      "outputs": []
    }
  ]
}